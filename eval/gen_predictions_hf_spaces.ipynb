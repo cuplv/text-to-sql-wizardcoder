{
 "cells": [
  {
   "attachments": {},
   "cell_type": "markdown",
   "metadata": {},
   "source": [
    "### Eval on Spider"
   ]
  },
  {
   "cell_type": "code",
   "execution_count": null,
   "metadata": {},
   "outputs": [],
   "source": [
    "import time\n",
    "from datasets import load_dataset\n",
    "from tqdm.notebook import tqdm\n",
    "from gradio_client import Client\n",
    "\n",
    "client = Client(\"https://richardr1126-sql-skeleton-wizardcoder-demo.hf.space/\")\n",
    "\n",
    "dataset = load_dataset(\"richardr1126/spider-context-validation-ranked-schema\", split=\"validation\")\n",
    "last_line_written = 18\n",
    "\n",
    "for i in tqdm(range(last_line_written, len(dataset)), total=len(dataset)-last_line_written, desc=\"Generating responses\"):\n",
    "    example = dataset[i]\n",
    "    question = example[\"question\"]\n",
    "    db_info = example[\"db_info\"]\n",
    "    \n",
    "    while True:\n",
    "        try:\n",
    "            response_text = client.predict(\n",
    "                # prompt,  # 'input_text' Textbox\n",
    "                # \"\",      # 'db_info' Textbox\n",
    "                # 0.2,     # temperature\n",
    "                # 0.9,     # top-p\n",
    "                # 0,       # top-k\n",
    "                # 1.08,    # rep-penalty\n",
    "                # True,\t # bool in 'Format SQL + Remove Skeleton' Checkbox component\n",
    "\t\t\t\t# \"###\",\t# str in 'Extra Stop Sequence' Textbox component\n",
    "\t\t\t\t# False,    # bool in 'Log to Firebase' Checkbox component\n",
    "                # api_name=\"/txt2sql\"\n",
    "                question,\t# str in 'NL Input' Textbox component\n",
    "\t\t\t\tdb_info,\t# str in 'Database Info' Textbox component\n",
    "\t\t\t\t0.2,\t# int | float (numeric value between 0.0 and 1.0) in 'Temperature' Slider component\n",
    "\t\t\t\t0.9,\t# int | float (numeric value between 0.0 and 1.0) in 'Top-p (nucleus sampling)' Slider component\n",
    "\t\t\t\t0,\t# int | float (numeric value between 0 and 200) in 'Top-k' Slider component\n",
    "\t\t\t\t1.08,\t# int | float (numeric value between 1.0 and 2.0) in 'Repetition Penalty' Slider component\n",
    "\t\t\t\tTrue,\t# bool in 'Format SQL + Remove Skeleton' Checkbox component\n",
    "\t\t\t\tFalse,\t# bool in 'Log to Firebase' Checkbox component\n",
    "\t\t\t\t3,\t# int | float (numeric value between 1 and 5) in 'Num Return Sequences' Slider component\n",
    "\t\t\t\t5,\t# int | float (numeric value between 1 and 5) in 'Num Beams' Slider component\n",
    "\t\t\t\tFalse,\t# bool in 'Do Sample' Checkbox component\n",
    "            )\n",
    "            \n",
    "            response_text = response_text.strip().replace(\"\\n\", \" \").replace(\"\\t\", \" \")\n",
    "            if response_text and response_text[-1] == \".\":\n",
    "                response_text = response_text[:-1]\n",
    "            \n",
    "            # if response_text == \"\":\n",
    "            #     response_text = \"###\"\n",
    "            \n",
    "            with open('predictions/temp2_ranked_bof_4.txt', 'a') as f:\n",
    "                f.write(response_text + \"\\n\")\n",
    "            \n",
    "            break\n",
    "            \n",
    "        except Exception as e:\n",
    "            print(f'Error occurred: {str(e)}')\n",
    "            print('Waiting for 20 seconds before retrying...')\n",
    "            time.sleep(20)"
   ]
  }
 ],
 "metadata": {
  "kernelspec": {
   "display_name": "llama",
   "language": "python",
   "name": "python3"
  },
  "language_info": {
   "codemirror_mode": {
    "name": "ipython",
    "version": 3
   },
   "file_extension": ".py",
   "mimetype": "text/x-python",
   "name": "python",
   "nbconvert_exporter": "python",
   "pygments_lexer": "ipython3",
   "version": "3.11.4"
  },
  "orig_nbformat": 4
 },
 "nbformat": 4,
 "nbformat_minor": 2
}
