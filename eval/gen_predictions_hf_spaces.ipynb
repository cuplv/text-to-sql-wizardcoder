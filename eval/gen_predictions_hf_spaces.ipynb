{
 "cells": [
  {
   "attachments": {},
   "cell_type": "markdown",
   "metadata": {},
   "source": [
    "### Eval on Spider"
   ]
  },
  {
   "cell_type": "code",
   "execution_count": 15,
   "metadata": {},
   "outputs": [
    {
     "name": "stdout",
     "output_type": "stream",
     "text": [
      "Loaded as API: https://richardr1126-sql-skeleton-wizardcoder-demo.hf.space/ ✔\n"
     ]
    },
    {
     "name": "stderr",
     "output_type": "stream",
     "text": [
      "Found cached dataset json (/Users/richardroberson/.cache/huggingface/datasets/richardr1126___json/richardr1126--spider-context-validation-ranked-schema-2d9a5b0a2874e23e/0.0.0/8bb11242116d547c741b2e8a1f18598ffdd40a1d4f2a2872c7a28b697434bc96)\n"
     ]
    },
    {
     "data": {
      "application/vnd.jupyter.widget-view+json": {
       "model_id": "915b1535da4344deac219ddb79467457",
       "version_major": 2,
       "version_minor": 0
      },
      "text/plain": [
       "Generating responses:   0%|          | 0/1034 [00:00<?, ?it/s]"
      ]
     },
     "metadata": {},
     "output_type": "display_data"
    },
    {
     "name": "stdout",
     "output_type": "stream",
     "text": [
      "Error occurred: no close frame received or sent\n",
      "Waiting for 20 seconds before retrying...\n",
      "Error occurred: no close frame received or sent\n",
      "Waiting for 20 seconds before retrying...\n",
      "Error occurred: no close frame received or sent\n",
      "Waiting for 20 seconds before retrying...\n",
      "Error occurred: no close frame received or sent\n",
      "Waiting for 20 seconds before retrying...\n"
     ]
    }
   ],
   "source": [
    "import time\n",
    "from datasets import load_dataset\n",
    "from tqdm.notebook import tqdm\n",
    "from gradio_client import Client\n",
    "\n",
    "client = Client(\"https://richardr1126-sql-skeleton-wizardcoder-demo.hf.space/\")\n",
    "\n",
    "dataset = load_dataset(\"richardr1126/spider-context-validation-ranked-schema\", split=\"validation\")\n",
    "last_line_written = 0\n",
    "\n",
    "for i in tqdm(range(last_line_written, len(dataset)), total=len(dataset)-last_line_written, desc=\"Generating responses\"):\n",
    "    example = dataset[i]\n",
    "    question = example[\"question\"]\n",
    "    db_info = example[\"db_info\"]\n",
    "\n",
    "    prompt = f\"{question} {db_info}\"\n",
    "    \n",
    "    while True:\n",
    "        try:\n",
    "            response_text = client.predict(\n",
    "                # prompt,  # 'input_text' Textbox\n",
    "                # \"\",      # 'db_info' Textbox\n",
    "                # 0.2,     # temperature\n",
    "                # 0.9,     # top-p\n",
    "                # 0,       # top-k\n",
    "                # 1.08,    # rep-penalty\n",
    "                # True,\t # bool in 'Format SQL + Remove Skeleton' Checkbox component\n",
    "\t\t\t\t# \"###\",\t# str in 'Extra Stop Sequence' Textbox component\n",
    "\t\t\t\t# False,    # bool in 'Log to Firebase' Checkbox component\n",
    "                # api_name=\"/txt2sql\"\n",
    "                prompt,\t# str in 'NL Input' Textbox component\n",
    "\t\t\t\t\"\",\t# str in 'Database Info' Textbox component\n",
    "\t\t\t\t0.0,\t# int | float (numeric value between 0.0 and 1.0) in 'Temperature' Slider component\n",
    "\t\t\t\t0.9,\t# int | float (numeric value between 0.0 and 1.0) in 'Top-p (nucleus sampling)' Slider component\n",
    "\t\t\t\t0,\t# int | float (numeric value between 0 and 200) in 'Top-k' Slider component\n",
    "\t\t\t\t1.08,\t# int | float (numeric value between 1.0 and 2.0) in 'Repetition Penalty' Slider component\n",
    "\t\t\t\tTrue,\t# bool in 'Format SQL + Remove Skeleton' Checkbox component\n",
    "\t\t\t\tFalse,\t# bool in 'Log to Firebase' Checkbox component\n",
    "\t\t\t\t1,\t# int | float (numeric value between 1 and 5) in 'Num Return Sequences' Slider component\n",
    "\t\t\t\t1,\t# int | float (numeric value between 1 and 5) in 'Num Beams' Slider component\n",
    "\t\t\t\tFalse,\t# bool in 'Do Sample' Checkbox component\n",
    "            )\n",
    "            \n",
    "            response_text = response_text.strip().replace(\"\\n\", \" \").replace(\"\\t\", \" \")\n",
    "            if response_text and response_text[-1] == \".\":\n",
    "                response_text = response_text[:-1]\n",
    "            \n",
    "            with open('predictions/temp0_ranked_schema.txt', 'a') as f:\n",
    "                f.write(response_text + \"\\n\")\n",
    "            \n",
    "            break\n",
    "            \n",
    "        except Exception as e:\n",
    "            print(f'Error occurred: {str(e)}')\n",
    "            print('Waiting for 20 seconds before retrying...')\n",
    "            time.sleep(20)"
   ]
  }
 ],
 "metadata": {
  "kernelspec": {
   "display_name": "llama",
   "language": "python",
   "name": "python3"
  },
  "language_info": {
   "codemirror_mode": {
    "name": "ipython",
    "version": 3
   },
   "file_extension": ".py",
   "mimetype": "text/x-python",
   "name": "python",
   "nbconvert_exporter": "python",
   "pygments_lexer": "ipython3",
   "version": "3.11.4"
  },
  "orig_nbformat": 4
 },
 "nbformat": 4,
 "nbformat_minor": 2
}
