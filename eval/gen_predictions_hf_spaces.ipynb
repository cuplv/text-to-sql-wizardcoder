{
 "cells": [
  {
   "attachments": {},
   "cell_type": "markdown",
   "metadata": {},
   "source": [
    "### Eval on Spider"
   ]
  },
  {
   "cell_type": "code",
   "execution_count": 8,
   "metadata": {},
   "outputs": [
    {
     "name": "stdout",
     "output_type": "stream",
     "text": [
      "Loaded as API: https://richardr1126-sql-skeleton-codellama-demo.hf.space/ ✔\n"
     ]
    },
    {
     "name": "stderr",
     "output_type": "stream",
     "text": [
      "Found cached dataset json (/Users/richardroberson/.cache/huggingface/datasets/richardr1126___json/richardr1126--spider-context-validation-166f6f4d7e17c532/0.0.0/8bb11242116d547c741b2e8a1f18598ffdd40a1d4f2a2872c7a28b697434bc96)\n"
     ]
    },
    {
     "data": {
      "application/vnd.jupyter.widget-view+json": {
       "model_id": "f57ef6ad8c69400ba264163bb78f3262",
       "version_major": 2,
       "version_minor": 0
      },
      "text/plain": [
       "Generating responses:   0%|          | 0/1034 [00:00<?, ?it/s]"
      ]
     },
     "metadata": {},
     "output_type": "display_data"
    },
    {
     "name": "stdout",
     "output_type": "stream",
     "text": [
      "Error occurred: no close frame received or sent\n",
      "Waiting for 10 seconds before retrying...\n",
      "Error occurred: \n",
      "Waiting for 10 seconds before retrying...\n",
      "Error occurred: \n",
      "Waiting for 10 seconds before retrying...\n",
      "Error occurred: \n",
      "Waiting for 10 seconds before retrying...\n",
      "Error occurred: \n",
      "Waiting for 10 seconds before retrying...\n",
      "Error occurred: \n",
      "Waiting for 10 seconds before retrying...\n",
      "Error occurred: \n",
      "Waiting for 10 seconds before retrying...\n",
      "Error occurred: \n",
      "Waiting for 10 seconds before retrying...\n"
     ]
    },
    {
     "ename": "KeyboardInterrupt",
     "evalue": "",
     "output_type": "error",
     "traceback": [
      "\u001b[0;31m---------------------------------------------------------------------------\u001b[0m",
      "\u001b[0;31mCancelledError\u001b[0m                            Traceback (most recent call last)",
      "File \u001b[0;32m~/miniforge3/envs/llm/lib/python3.11/site-packages/websockets/legacy/client.py:655\u001b[0m, in \u001b[0;36mConnect.__await_impl_timeout__\u001b[0;34m(self)\u001b[0m\n\u001b[1;32m    654\u001b[0m \u001b[39masync\u001b[39;00m \u001b[39mwith\u001b[39;00m asyncio_timeout(\u001b[39mself\u001b[39m\u001b[39m.\u001b[39mopen_timeout):\n\u001b[0;32m--> 655\u001b[0m     \u001b[39mreturn\u001b[39;00m \u001b[39mawait\u001b[39;00m \u001b[39mself\u001b[39m\u001b[39m.\u001b[39m__await_impl__()\n",
      "File \u001b[0;32m~/miniforge3/envs/llm/lib/python3.11/site-packages/websockets/legacy/client.py:662\u001b[0m, in \u001b[0;36mConnect.__await_impl__\u001b[0;34m(self)\u001b[0m\n\u001b[1;32m    661\u001b[0m \u001b[39mtry\u001b[39;00m:\n\u001b[0;32m--> 662\u001b[0m     \u001b[39mawait\u001b[39;00m protocol\u001b[39m.\u001b[39mhandshake(\n\u001b[1;32m    663\u001b[0m         \u001b[39mself\u001b[39m\u001b[39m.\u001b[39m_wsuri,\n\u001b[1;32m    664\u001b[0m         origin\u001b[39m=\u001b[39mprotocol\u001b[39m.\u001b[39morigin,\n\u001b[1;32m    665\u001b[0m         available_extensions\u001b[39m=\u001b[39mprotocol\u001b[39m.\u001b[39mavailable_extensions,\n\u001b[1;32m    666\u001b[0m         available_subprotocols\u001b[39m=\u001b[39mprotocol\u001b[39m.\u001b[39mavailable_subprotocols,\n\u001b[1;32m    667\u001b[0m         extra_headers\u001b[39m=\u001b[39mprotocol\u001b[39m.\u001b[39mextra_headers,\n\u001b[1;32m    668\u001b[0m     )\n\u001b[1;32m    669\u001b[0m \u001b[39mexcept\u001b[39;00m RedirectHandshake \u001b[39mas\u001b[39;00m exc:\n",
      "File \u001b[0;32m~/miniforge3/envs/llm/lib/python3.11/site-packages/websockets/legacy/client.py:323\u001b[0m, in \u001b[0;36mWebSocketClientProtocol.handshake\u001b[0;34m(self, wsuri, origin, available_extensions, available_subprotocols, extra_headers)\u001b[0m\n\u001b[1;32m    321\u001b[0m \u001b[39mself\u001b[39m\u001b[39m.\u001b[39mwrite_http_request(wsuri\u001b[39m.\u001b[39mresource_name, request_headers)\n\u001b[0;32m--> 323\u001b[0m status_code, response_headers \u001b[39m=\u001b[39m \u001b[39mawait\u001b[39;00m \u001b[39mself\u001b[39m\u001b[39m.\u001b[39mread_http_response()\n\u001b[1;32m    324\u001b[0m \u001b[39mif\u001b[39;00m status_code \u001b[39min\u001b[39;00m (\u001b[39m301\u001b[39m, \u001b[39m302\u001b[39m, \u001b[39m303\u001b[39m, \u001b[39m307\u001b[39m, \u001b[39m308\u001b[39m):\n",
      "File \u001b[0;32m~/miniforge3/envs/llm/lib/python3.11/site-packages/websockets/legacy/client.py:139\u001b[0m, in \u001b[0;36mWebSocketClientProtocol.read_http_response\u001b[0;34m(self)\u001b[0m\n\u001b[1;32m    138\u001b[0m \u001b[39mtry\u001b[39;00m:\n\u001b[0;32m--> 139\u001b[0m     status_code, reason, headers \u001b[39m=\u001b[39m \u001b[39mawait\u001b[39;00m read_response(\u001b[39mself\u001b[39m\u001b[39m.\u001b[39mreader)\n\u001b[1;32m    140\u001b[0m \u001b[39m# Remove this branch when dropping support for Python < 3.8\u001b[39;00m\n\u001b[1;32m    141\u001b[0m \u001b[39m# because CancelledError no longer inherits Exception.\u001b[39;00m\n",
      "File \u001b[0;32m~/miniforge3/envs/llm/lib/python3.11/site-packages/websockets/legacy/http.py:120\u001b[0m, in \u001b[0;36mread_response\u001b[0;34m(stream)\u001b[0m\n\u001b[1;32m    119\u001b[0m \u001b[39mtry\u001b[39;00m:\n\u001b[0;32m--> 120\u001b[0m     status_line \u001b[39m=\u001b[39m \u001b[39mawait\u001b[39;00m read_line(stream)\n\u001b[1;32m    121\u001b[0m \u001b[39mexcept\u001b[39;00m \u001b[39mEOFError\u001b[39;00m \u001b[39mas\u001b[39;00m exc:\n",
      "File \u001b[0;32m~/miniforge3/envs/llm/lib/python3.11/site-packages/websockets/legacy/http.py:194\u001b[0m, in \u001b[0;36mread_line\u001b[0;34m(stream)\u001b[0m\n\u001b[1;32m    193\u001b[0m \u001b[39m# Security: this is bounded by the StreamReader's limit (default = 32 KiB).\u001b[39;00m\n\u001b[0;32m--> 194\u001b[0m line \u001b[39m=\u001b[39m \u001b[39mawait\u001b[39;00m stream\u001b[39m.\u001b[39mreadline()\n\u001b[1;32m    195\u001b[0m \u001b[39m# Security: this guarantees header values are small (hard-coded = 8 KiB)\u001b[39;00m\n",
      "File \u001b[0;32m~/miniforge3/envs/llm/lib/python3.11/asyncio/streams.py:545\u001b[0m, in \u001b[0;36mStreamReader.readline\u001b[0;34m(self)\u001b[0m\n\u001b[1;32m    544\u001b[0m \u001b[39mtry\u001b[39;00m:\n\u001b[0;32m--> 545\u001b[0m     line \u001b[39m=\u001b[39m \u001b[39mawait\u001b[39;00m \u001b[39mself\u001b[39m\u001b[39m.\u001b[39mreaduntil(sep)\n\u001b[1;32m    546\u001b[0m \u001b[39mexcept\u001b[39;00m exceptions\u001b[39m.\u001b[39mIncompleteReadError \u001b[39mas\u001b[39;00m e:\n",
      "File \u001b[0;32m~/miniforge3/envs/llm/lib/python3.11/asyncio/streams.py:637\u001b[0m, in \u001b[0;36mStreamReader.readuntil\u001b[0;34m(self, separator)\u001b[0m\n\u001b[1;32m    636\u001b[0m     \u001b[39m# _wait_for_data() will resume reading if stream was paused.\u001b[39;00m\n\u001b[0;32m--> 637\u001b[0m     \u001b[39mawait\u001b[39;00m \u001b[39mself\u001b[39m\u001b[39m.\u001b[39m_wait_for_data(\u001b[39m'\u001b[39m\u001b[39mreaduntil\u001b[39m\u001b[39m'\u001b[39m)\n\u001b[1;32m    639\u001b[0m \u001b[39mif\u001b[39;00m isep \u001b[39m>\u001b[39m \u001b[39mself\u001b[39m\u001b[39m.\u001b[39m_limit:\n",
      "File \u001b[0;32m~/miniforge3/envs/llm/lib/python3.11/asyncio/streams.py:522\u001b[0m, in \u001b[0;36mStreamReader._wait_for_data\u001b[0;34m(self, func_name)\u001b[0m\n\u001b[1;32m    521\u001b[0m \u001b[39mtry\u001b[39;00m:\n\u001b[0;32m--> 522\u001b[0m     \u001b[39mawait\u001b[39;00m \u001b[39mself\u001b[39m\u001b[39m.\u001b[39m_waiter\n\u001b[1;32m    523\u001b[0m \u001b[39mfinally\u001b[39;00m:\n",
      "\u001b[0;31mCancelledError\u001b[0m: ",
      "\nThe above exception was the direct cause of the following exception:\n",
      "\u001b[0;31mTimeoutError\u001b[0m                              Traceback (most recent call last)",
      "File \u001b[0;32m~/miniforge3/envs/llm/lib/python3.11/site-packages/fsspec/asyn.py:61\u001b[0m, in \u001b[0;36m_runner\u001b[0;34m(event, coro, result, timeout)\u001b[0m\n\u001b[1;32m     60\u001b[0m \u001b[39mtry\u001b[39;00m:\n\u001b[0;32m---> 61\u001b[0m     result[\u001b[39m0\u001b[39m] \u001b[39m=\u001b[39m \u001b[39mawait\u001b[39;00m coro\n\u001b[1;32m     62\u001b[0m \u001b[39mexcept\u001b[39;00m \u001b[39mException\u001b[39;00m \u001b[39mas\u001b[39;00m ex:\n",
      "File \u001b[0;32m~/miniforge3/envs/llm/lib/python3.11/site-packages/gradio_client/client.py:896\u001b[0m, in \u001b[0;36mEndpoint._ws_fn\u001b[0;34m(self, data, hash_data, helper)\u001b[0m\n\u001b[1;32m    895\u001b[0m \u001b[39masync\u001b[39;00m \u001b[39mdef\u001b[39;00m \u001b[39m_ws_fn\u001b[39m(\u001b[39mself\u001b[39m, data, hash_data, helper: Communicator):\n\u001b[0;32m--> 896\u001b[0m     \u001b[39masync\u001b[39;00m \u001b[39mwith\u001b[39;00m websockets\u001b[39m.\u001b[39mconnect(  \u001b[39m# type: ignore\u001b[39;00m\n\u001b[1;32m    897\u001b[0m         \u001b[39mself\u001b[39m\u001b[39m.\u001b[39mclient\u001b[39m.\u001b[39mws_url,\n\u001b[1;32m    898\u001b[0m         open_timeout\u001b[39m=\u001b[39m\u001b[39m10\u001b[39m,\n\u001b[1;32m    899\u001b[0m         extra_headers\u001b[39m=\u001b[39m\u001b[39mself\u001b[39m\u001b[39m.\u001b[39mclient\u001b[39m.\u001b[39mheaders,\n\u001b[1;32m    900\u001b[0m         max_size\u001b[39m=\u001b[39m\u001b[39m1024\u001b[39m \u001b[39m*\u001b[39m \u001b[39m1024\u001b[39m \u001b[39m*\u001b[39m \u001b[39m1024\u001b[39m,\n\u001b[1;32m    901\u001b[0m     ) \u001b[39mas\u001b[39;00m websocket:\n\u001b[1;32m    902\u001b[0m         \u001b[39mreturn\u001b[39;00m \u001b[39mawait\u001b[39;00m utils\u001b[39m.\u001b[39mget_pred_from_ws(websocket, data, hash_data, helper)\n",
      "File \u001b[0;32m~/miniforge3/envs/llm/lib/python3.11/site-packages/websockets/legacy/client.py:637\u001b[0m, in \u001b[0;36mConnect.__aenter__\u001b[0;34m(self)\u001b[0m\n\u001b[1;32m    636\u001b[0m \u001b[39masync\u001b[39;00m \u001b[39mdef\u001b[39;00m \u001b[39m__aenter__\u001b[39m(\u001b[39mself\u001b[39m) \u001b[39m-\u001b[39m\u001b[39m>\u001b[39m WebSocketClientProtocol:\n\u001b[0;32m--> 637\u001b[0m     \u001b[39mreturn\u001b[39;00m \u001b[39mawait\u001b[39;00m \u001b[39mself\u001b[39m\n",
      "File \u001b[0;32m~/miniforge3/envs/llm/lib/python3.11/site-packages/websockets/legacy/client.py:654\u001b[0m, in \u001b[0;36mConnect.__await_impl_timeout__\u001b[0;34m(self)\u001b[0m\n\u001b[1;32m    653\u001b[0m \u001b[39masync\u001b[39;00m \u001b[39mdef\u001b[39;00m \u001b[39m__await_impl_timeout__\u001b[39m(\u001b[39mself\u001b[39m) \u001b[39m-\u001b[39m\u001b[39m>\u001b[39m WebSocketClientProtocol:\n\u001b[0;32m--> 654\u001b[0m     \u001b[39masync\u001b[39;00m \u001b[39mwith\u001b[39;00m asyncio_timeout(\u001b[39mself\u001b[39m\u001b[39m.\u001b[39mopen_timeout):\n\u001b[1;32m    655\u001b[0m         \u001b[39mreturn\u001b[39;00m \u001b[39mawait\u001b[39;00m \u001b[39mself\u001b[39m\u001b[39m.\u001b[39m__await_impl__()\n",
      "File \u001b[0;32m~/miniforge3/envs/llm/lib/python3.11/asyncio/timeouts.py:111\u001b[0m, in \u001b[0;36mTimeout.__aexit__\u001b[0;34m(self, exc_type, exc_val, exc_tb)\u001b[0m\n\u001b[1;32m    108\u001b[0m     \u001b[39mif\u001b[39;00m \u001b[39mself\u001b[39m\u001b[39m.\u001b[39m_task\u001b[39m.\u001b[39muncancel() \u001b[39m<\u001b[39m\u001b[39m=\u001b[39m \u001b[39mself\u001b[39m\u001b[39m.\u001b[39m_cancelling \u001b[39mand\u001b[39;00m exc_type \u001b[39mis\u001b[39;00m exceptions\u001b[39m.\u001b[39mCancelledError:\n\u001b[1;32m    109\u001b[0m         \u001b[39m# Since there are no new cancel requests, we're\u001b[39;00m\n\u001b[1;32m    110\u001b[0m         \u001b[39m# handling this.\u001b[39;00m\n\u001b[0;32m--> 111\u001b[0m         \u001b[39mraise\u001b[39;00m \u001b[39mTimeoutError\u001b[39;00m \u001b[39mfrom\u001b[39;00m \u001b[39mexc_val\u001b[39;00m\n\u001b[1;32m    112\u001b[0m \u001b[39melif\u001b[39;00m \u001b[39mself\u001b[39m\u001b[39m.\u001b[39m_state \u001b[39mis\u001b[39;00m _State\u001b[39m.\u001b[39mENTERED:\n",
      "\u001b[0;31mTimeoutError\u001b[0m: ",
      "\nThe above exception was the direct cause of the following exception:\n",
      "\u001b[0;31mFSTimeoutError\u001b[0m                            Traceback (most recent call last)",
      "Cell \u001b[0;32mIn[8], line 17\u001b[0m\n\u001b[1;32m     16\u001b[0m         \u001b[39mtry\u001b[39;00m:\n\u001b[0;32m---> 17\u001b[0m             response_text \u001b[39m=\u001b[39m client\u001b[39m.\u001b[39;49mpredict(\n\u001b[1;32m     18\u001b[0m                 prompt,  \u001b[39m# 'input_text' Textbox\u001b[39;49;00m\n\u001b[1;32m     19\u001b[0m                 \u001b[39m\"\u001b[39;49m\u001b[39m\"\u001b[39;49m,      \u001b[39m# 'db_info' Textbox\u001b[39;49;00m\n\u001b[1;32m     20\u001b[0m                 \u001b[39m0.4\u001b[39;49m,     \u001b[39m# temperature\u001b[39;49;00m\n\u001b[1;32m     21\u001b[0m                 \u001b[39m0.9\u001b[39;49m,     \u001b[39m# top-p\u001b[39;49;00m\n\u001b[1;32m     22\u001b[0m                 \u001b[39m30\u001b[39;49m,       \u001b[39m# top-k\u001b[39;49;00m\n\u001b[1;32m     23\u001b[0m                 \u001b[39m1.08\u001b[39;49m,    \u001b[39m# rep-penalty\u001b[39;49;00m\n\u001b[1;32m     24\u001b[0m                 \u001b[39mTrue\u001b[39;49;00m,\t \u001b[39m# bool in 'Format SQL + Remove Skeleton' Checkbox component\u001b[39;49;00m\n\u001b[1;32m     25\u001b[0m \t\t\t\t\u001b[39m\"\u001b[39;49m\u001b[39m###\u001b[39;49m\u001b[39m\"\u001b[39;49m,\t\u001b[39m# str in 'Extra Stop Sequence' Textbox component\u001b[39;49;00m\n\u001b[1;32m     26\u001b[0m \t\t\t\t\u001b[39mFalse\u001b[39;49;00m,    \u001b[39m# bool in 'Log to Firebase' Checkbox component\u001b[39;49;00m\n\u001b[1;32m     27\u001b[0m                 api_name\u001b[39m=\u001b[39;49m\u001b[39m\"\u001b[39;49m\u001b[39m/txt2sql\u001b[39;49m\u001b[39m\"\u001b[39;49m\n\u001b[1;32m     28\u001b[0m             )\n\u001b[1;32m     30\u001b[0m             response_text \u001b[39m=\u001b[39m response_text\u001b[39m.\u001b[39mstrip()\u001b[39m.\u001b[39mreplace(\u001b[39m\"\u001b[39m\u001b[39m\\n\u001b[39;00m\u001b[39m\"\u001b[39m, \u001b[39m\"\u001b[39m\u001b[39m \u001b[39m\u001b[39m\"\u001b[39m)\u001b[39m.\u001b[39mreplace(\u001b[39m\"\u001b[39m\u001b[39m\\t\u001b[39;00m\u001b[39m\"\u001b[39m, \u001b[39m\"\u001b[39m\u001b[39m \u001b[39m\u001b[39m\"\u001b[39m)\n",
      "File \u001b[0;32m~/miniforge3/envs/llm/lib/python3.11/site-packages/gradio_client/client.py:285\u001b[0m, in \u001b[0;36mClient.predict\u001b[0;34m(self, api_name, fn_index, *args)\u001b[0m\n\u001b[1;32m    270\u001b[0m \u001b[39m\u001b[39m\u001b[39m\"\"\"\u001b[39;00m\n\u001b[1;32m    271\u001b[0m \u001b[39mCalls the Gradio API and returns the result (this is a blocking call).\u001b[39;00m\n\u001b[1;32m    272\u001b[0m \n\u001b[0;32m   (...)\u001b[0m\n\u001b[1;32m    283\u001b[0m \u001b[39m    >> 9.0\u001b[39;00m\n\u001b[1;32m    284\u001b[0m \u001b[39m\"\"\"\u001b[39;00m\n\u001b[0;32m--> 285\u001b[0m \u001b[39mreturn\u001b[39;00m \u001b[39mself\u001b[39;49m\u001b[39m.\u001b[39;49msubmit(\u001b[39m*\u001b[39;49margs, api_name\u001b[39m=\u001b[39;49mapi_name, fn_index\u001b[39m=\u001b[39;49mfn_index)\u001b[39m.\u001b[39;49mresult()\n",
      "File \u001b[0;32m~/miniforge3/envs/llm/lib/python3.11/site-packages/gradio_client/client.py:984\u001b[0m, in \u001b[0;36mJob.result\u001b[0;34m(self, timeout)\u001b[0m\n\u001b[1;32m    983\u001b[0m \u001b[39mif\u001b[39;00m \u001b[39mself\u001b[39m\u001b[39m.\u001b[39mfuture\u001b[39m.\u001b[39m_exception:  \u001b[39m# type: ignore\u001b[39;00m\n\u001b[0;32m--> 984\u001b[0m     \u001b[39mraise\u001b[39;00m \u001b[39mself\u001b[39m\u001b[39m.\u001b[39mfuture\u001b[39m.\u001b[39m_exception  \u001b[39m# type: ignore\u001b[39;00m\n\u001b[1;32m    985\u001b[0m \u001b[39mwith\u001b[39;00m \u001b[39mself\u001b[39m\u001b[39m.\u001b[39mcommunicator\u001b[39m.\u001b[39mlock:\n",
      "File \u001b[0;32m~/miniforge3/envs/llm/lib/python3.11/concurrent/futures/thread.py:58\u001b[0m, in \u001b[0;36m_WorkItem.run\u001b[0;34m(self)\u001b[0m\n\u001b[1;32m     57\u001b[0m \u001b[39mtry\u001b[39;00m:\n\u001b[0;32m---> 58\u001b[0m     result \u001b[39m=\u001b[39m \u001b[39mself\u001b[39;49m\u001b[39m.\u001b[39;49mfn(\u001b[39m*\u001b[39;49m\u001b[39mself\u001b[39;49m\u001b[39m.\u001b[39;49margs, \u001b[39m*\u001b[39;49m\u001b[39m*\u001b[39;49m\u001b[39mself\u001b[39;49m\u001b[39m.\u001b[39;49mkwargs)\n\u001b[1;32m     59\u001b[0m \u001b[39mexcept\u001b[39;00m \u001b[39mBaseException\u001b[39;00m \u001b[39mas\u001b[39;00m exc:\n",
      "File \u001b[0;32m~/miniforge3/envs/llm/lib/python3.11/site-packages/gradio_client/client.py:645\u001b[0m, in \u001b[0;36mEndpoint.make_end_to_end_fn.<locals>._inner\u001b[0;34m(*data)\u001b[0m\n\u001b[1;32m    644\u001b[0m     data \u001b[39m=\u001b[39m \u001b[39mself\u001b[39m\u001b[39m.\u001b[39mserialize(\u001b[39m*\u001b[39mdata)\n\u001b[0;32m--> 645\u001b[0m predictions \u001b[39m=\u001b[39m _predict(\u001b[39m*\u001b[39;49mdata)\n\u001b[1;32m    646\u001b[0m predictions \u001b[39m=\u001b[39m \u001b[39mself\u001b[39m\u001b[39m.\u001b[39mprocess_predictions(\u001b[39m*\u001b[39mpredictions)\n",
      "File \u001b[0;32m~/miniforge3/envs/llm/lib/python3.11/site-packages/gradio_client/client.py:674\u001b[0m, in \u001b[0;36mEndpoint.make_predict.<locals>._predict\u001b[0;34m(*data)\u001b[0m\n\u001b[1;32m    673\u001b[0m \u001b[39mif\u001b[39;00m \u001b[39mself\u001b[39m\u001b[39m.\u001b[39muse_ws:\n\u001b[0;32m--> 674\u001b[0m     result \u001b[39m=\u001b[39m utils\u001b[39m.\u001b[39;49msynchronize_async(\u001b[39mself\u001b[39;49m\u001b[39m.\u001b[39;49m_ws_fn, data, hash_data, helper)\n\u001b[1;32m    675\u001b[0m     \u001b[39mif\u001b[39;00m \u001b[39m\"\u001b[39m\u001b[39merror\u001b[39m\u001b[39m\"\u001b[39m \u001b[39min\u001b[39;00m result:\n",
      "File \u001b[0;32m~/miniforge3/envs/llm/lib/python3.11/site-packages/gradio_client/utils.py:517\u001b[0m, in \u001b[0;36msynchronize_async\u001b[0;34m(func, *args, **kwargs)\u001b[0m\n\u001b[1;32m    505\u001b[0m \u001b[39m\u001b[39m\u001b[39m\"\"\"\u001b[39;00m\n\u001b[1;32m    506\u001b[0m \u001b[39mRuns async functions in sync scopes. Can be used in any scope.\u001b[39;00m\n\u001b[1;32m    507\u001b[0m \n\u001b[0;32m   (...)\u001b[0m\n\u001b[1;32m    515\u001b[0m \u001b[39m    **kwargs:\u001b[39;00m\n\u001b[1;32m    516\u001b[0m \u001b[39m\"\"\"\u001b[39;00m\n\u001b[0;32m--> 517\u001b[0m \u001b[39mreturn\u001b[39;00m fsspec\u001b[39m.\u001b[39;49masyn\u001b[39m.\u001b[39;49msync(fsspec\u001b[39m.\u001b[39;49masyn\u001b[39m.\u001b[39;49mget_loop(), func, \u001b[39m*\u001b[39;49margs, \u001b[39m*\u001b[39;49m\u001b[39m*\u001b[39;49mkwargs)\n",
      "File \u001b[0;32m~/miniforge3/envs/llm/lib/python3.11/site-packages/fsspec/asyn.py:104\u001b[0m, in \u001b[0;36msync\u001b[0;34m(loop, func, timeout, *args, **kwargs)\u001b[0m\n\u001b[1;32m    102\u001b[0m \u001b[39mif\u001b[39;00m \u001b[39misinstance\u001b[39m(return_result, asyncio\u001b[39m.\u001b[39mTimeoutError):\n\u001b[1;32m    103\u001b[0m     \u001b[39m# suppress asyncio.TimeoutError, raise FSTimeoutError\u001b[39;00m\n\u001b[0;32m--> 104\u001b[0m     \u001b[39mraise\u001b[39;00m FSTimeoutError \u001b[39mfrom\u001b[39;00m \u001b[39mreturn_result\u001b[39;00m\n\u001b[1;32m    105\u001b[0m \u001b[39melif\u001b[39;00m \u001b[39misinstance\u001b[39m(return_result, \u001b[39mBaseException\u001b[39;00m):\n",
      "\u001b[0;31mFSTimeoutError\u001b[0m: ",
      "\nDuring handling of the above exception, another exception occurred:\n",
      "\u001b[0;31mKeyboardInterrupt\u001b[0m                         Traceback (most recent call last)",
      "Cell \u001b[0;32mIn[8], line 42\u001b[0m\n\u001b[1;32m     40\u001b[0m \u001b[39mprint\u001b[39m(\u001b[39mf\u001b[39m\u001b[39m'\u001b[39m\u001b[39mError occurred: \u001b[39m\u001b[39m{\u001b[39;00m\u001b[39mstr\u001b[39m(e)\u001b[39m}\u001b[39;00m\u001b[39m'\u001b[39m)\n\u001b[1;32m     41\u001b[0m \u001b[39mprint\u001b[39m(\u001b[39m'\u001b[39m\u001b[39mWaiting for 10 seconds before retrying...\u001b[39m\u001b[39m'\u001b[39m)\n\u001b[0;32m---> 42\u001b[0m time\u001b[39m.\u001b[39msleep(\u001b[39m60\u001b[39m)\n",
      "\u001b[0;31mKeyboardInterrupt\u001b[0m: "
     ]
    }
   ],
   "source": [
    "import time\n",
    "from datasets import load_dataset\n",
    "from tqdm.notebook import tqdm\n",
    "from gradio_client import Client\n",
    "\n",
    "client = Client(\"https://richardr1126-sql-skeleton-codellama-demo.hf.space/\")\n",
    "\n",
    "dataset = load_dataset(\"richardr1126/spider-context-validation\", split=\"validation\")\n",
    "last_line_written = 0\n",
    "\n",
    "for i in tqdm(range(last_line_written, len(dataset)), total=len(dataset)-last_line_written, desc=\"Generating responses\"):\n",
    "    example = dataset[i]\n",
    "    prompt = example[\"prompt\"]\n",
    "    \n",
    "    while True:\n",
    "        try:\n",
    "            response_text = client.predict(\n",
    "                prompt,  # 'input_text' Textbox\n",
    "                \"\",      # 'db_info' Textbox\n",
    "                0.4,     # temperature\n",
    "                0.9,     # top-p\n",
    "                30,       # top-k\n",
    "                1.08,    # rep-penalty\n",
    "                True,\t # bool in 'Format SQL + Remove Skeleton' Checkbox component\n",
    "\t\t\t\t\"###\",\t# str in 'Extra Stop Sequence' Textbox component\n",
    "\t\t\t\tFalse,    # bool in 'Log to Firebase' Checkbox component\n",
    "                api_name=\"/txt2sql\"\n",
    "            )\n",
    "            \n",
    "            response_text = response_text.strip().replace(\"\\n\", \" \").replace(\"\\t\", \" \")\n",
    "            if response_text and response_text[-1] == \".\":\n",
    "                response_text = response_text[:-1]\n",
    "            \n",
    "            with open('predictions/temp4_codellama.txt', 'a') as f:\n",
    "                f.write(response_text + \"\\n\")\n",
    "            \n",
    "            break\n",
    "            \n",
    "        except Exception as e:\n",
    "            print(f'Error occurred: {str(e)}')\n",
    "            print('Waiting for 10 seconds before retrying...')\n",
    "            time.sleep(60)"
   ]
  }
 ],
 "metadata": {
  "kernelspec": {
   "display_name": "llama",
   "language": "python",
   "name": "python3"
  },
  "language_info": {
   "codemirror_mode": {
    "name": "ipython",
    "version": 3
   },
   "file_extension": ".py",
   "mimetype": "text/x-python",
   "name": "python",
   "nbconvert_exporter": "python",
   "pygments_lexer": "ipython3",
   "version": "3.11.4"
  },
  "orig_nbformat": 4
 },
 "nbformat": 4,
 "nbformat_minor": 2
}
