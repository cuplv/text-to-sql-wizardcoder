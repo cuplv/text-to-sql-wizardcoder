{
 "cells": [
  {
   "attachments": {},
   "cell_type": "markdown",
   "metadata": {},
   "source": [
    "### Eval on Spider"
   ]
  },
  {
   "cell_type": "code",
   "execution_count": 17,
   "metadata": {},
   "outputs": [
    {
     "name": "stdout",
     "output_type": "stream",
     "text": [
      "Loaded as API: https://richardr1126-sql-skeleton-wizardcoder-demo.hf.space/ ✔\n"
     ]
    },
    {
     "name": "stderr",
     "output_type": "stream",
     "text": [
      "Found cached dataset json (/Users/richardroberson/.cache/huggingface/datasets/richardr1126___json/richardr1126--spider-context-validation-ranked-schema-2d9a5b0a2874e23e/0.0.0/8bb11242116d547c741b2e8a1f18598ffdd40a1d4f2a2872c7a28b697434bc96)\n"
     ]
    },
    {
     "data": {
      "application/vnd.jupyter.widget-view+json": {
       "model_id": "98a1d3a6eba8475bba2b2db4496e5361",
       "version_major": 2,
       "version_minor": 0
      },
      "text/plain": [
       "Generating responses:   0%|          | 0/1034 [00:00<?, ?it/s]"
      ]
     },
     "metadata": {},
     "output_type": "display_data"
    },
    {
     "ename": "KeyboardInterrupt",
     "evalue": "",
     "output_type": "error",
     "traceback": [
      "\u001b[0;31m---------------------------------------------------------------------------\u001b[0m",
      "\u001b[0;31mKeyboardInterrupt\u001b[0m                         Traceback (most recent call last)",
      "Cell \u001b[0;32mIn[17], line 20\u001b[0m\n\u001b[1;32m     18\u001b[0m     \u001b[39mwhile\u001b[39;00m \u001b[39mTrue\u001b[39;00m:\n\u001b[1;32m     19\u001b[0m         \u001b[39mtry\u001b[39;00m:\n\u001b[0;32m---> 20\u001b[0m             response_text \u001b[39m=\u001b[39m client\u001b[39m.\u001b[39;49mpredict(\n\u001b[1;32m     21\u001b[0m                 \u001b[39m# prompt,  # 'input_text' Textbox\u001b[39;49;00m\n\u001b[1;32m     22\u001b[0m                 \u001b[39m# \"\",      # 'db_info' Textbox\u001b[39;49;00m\n\u001b[1;32m     23\u001b[0m                 \u001b[39m# 0.2,     # temperature\u001b[39;49;00m\n\u001b[1;32m     24\u001b[0m                 \u001b[39m# 0.9,     # top-p\u001b[39;49;00m\n\u001b[1;32m     25\u001b[0m                 \u001b[39m# 0,       # top-k\u001b[39;49;00m\n\u001b[1;32m     26\u001b[0m                 \u001b[39m# 1.08,    # rep-penalty\u001b[39;49;00m\n\u001b[1;32m     27\u001b[0m                 \u001b[39m# True,\t # bool in 'Format SQL + Remove Skeleton' Checkbox component\u001b[39;49;00m\n\u001b[1;32m     28\u001b[0m \t\t\t\t\u001b[39m# \"###\",\t# str in 'Extra Stop Sequence' Textbox component\u001b[39;49;00m\n\u001b[1;32m     29\u001b[0m \t\t\t\t\u001b[39m# False,    # bool in 'Log to Firebase' Checkbox component\u001b[39;49;00m\n\u001b[1;32m     30\u001b[0m                 \u001b[39m# api_name=\"/txt2sql\"\u001b[39;49;00m\n\u001b[1;32m     31\u001b[0m                 prompt,\t\u001b[39m# str in 'NL Input' Textbox component\u001b[39;49;00m\n\u001b[1;32m     32\u001b[0m \t\t\t\t\u001b[39m\"\u001b[39;49m\u001b[39m\"\u001b[39;49m,\t\u001b[39m# str in 'Database Info' Textbox component\u001b[39;49;00m\n\u001b[1;32m     33\u001b[0m \t\t\t\t\u001b[39m0.2\u001b[39;49m,\t\u001b[39m# int | float (numeric value between 0.0 and 1.0) in 'Temperature' Slider component\u001b[39;49;00m\n\u001b[1;32m     34\u001b[0m \t\t\t\t\u001b[39m0.9\u001b[39;49m,\t\u001b[39m# int | float (numeric value between 0.0 and 1.0) in 'Top-p (nucleus sampling)' Slider component\u001b[39;49;00m\n\u001b[1;32m     35\u001b[0m \t\t\t\t\u001b[39m0\u001b[39;49m,\t\u001b[39m# int | float (numeric value between 0 and 200) in 'Top-k' Slider component\u001b[39;49;00m\n\u001b[1;32m     36\u001b[0m \t\t\t\t\u001b[39m1.08\u001b[39;49m,\t\u001b[39m# int | float (numeric value between 1.0 and 2.0) in 'Repetition Penalty' Slider component\u001b[39;49;00m\n\u001b[1;32m     37\u001b[0m \t\t\t\t\u001b[39mTrue\u001b[39;49;00m,\t\u001b[39m# bool in 'Format SQL + Remove Skeleton' Checkbox component\u001b[39;49;00m\n\u001b[1;32m     38\u001b[0m \t\t\t\t\u001b[39mFalse\u001b[39;49;00m,\t\u001b[39m# bool in 'Log to Firebase' Checkbox component\u001b[39;49;00m\n\u001b[1;32m     39\u001b[0m \t\t\t\t\u001b[39m3\u001b[39;49m,\t\u001b[39m# int | float (numeric value between 1 and 5) in 'Num Return Sequences' Slider component\u001b[39;49;00m\n\u001b[1;32m     40\u001b[0m \t\t\t\t\u001b[39m5\u001b[39;49m,\t\u001b[39m# int | float (numeric value between 1 and 5) in 'Num Beams' Slider component\u001b[39;49;00m\n\u001b[1;32m     41\u001b[0m \t\t\t\t\u001b[39mFalse\u001b[39;49;00m,\t\u001b[39m# bool in 'Do Sample' Checkbox component\u001b[39;49;00m\n\u001b[1;32m     42\u001b[0m             )\n\u001b[1;32m     44\u001b[0m             \u001b[39m#response_text = response_text.strip().replace(\"\\n\", \" \").replace(\"\\t\", \" \")\u001b[39;00m\n\u001b[1;32m     45\u001b[0m             \u001b[39mif\u001b[39;00m response_text \u001b[39mand\u001b[39;00m response_text[\u001b[39m-\u001b[39m\u001b[39m1\u001b[39m] \u001b[39m==\u001b[39m \u001b[39m\"\u001b[39m\u001b[39m.\u001b[39m\u001b[39m\"\u001b[39m:\n",
      "File \u001b[0;32m~/miniforge3/envs/llm/lib/python3.11/site-packages/gradio_client/client.py:285\u001b[0m, in \u001b[0;36mClient.predict\u001b[0;34m(self, api_name, fn_index, *args)\u001b[0m\n\u001b[1;32m    264\u001b[0m \u001b[39mdef\u001b[39;00m \u001b[39mpredict\u001b[39m(\n\u001b[1;32m    265\u001b[0m     \u001b[39mself\u001b[39m,\n\u001b[1;32m    266\u001b[0m     \u001b[39m*\u001b[39margs,\n\u001b[1;32m    267\u001b[0m     api_name: \u001b[39mstr\u001b[39m \u001b[39m|\u001b[39m \u001b[39mNone\u001b[39;00m \u001b[39m=\u001b[39m \u001b[39mNone\u001b[39;00m,\n\u001b[1;32m    268\u001b[0m     fn_index: \u001b[39mint\u001b[39m \u001b[39m|\u001b[39m \u001b[39mNone\u001b[39;00m \u001b[39m=\u001b[39m \u001b[39mNone\u001b[39;00m,\n\u001b[1;32m    269\u001b[0m ) \u001b[39m-\u001b[39m\u001b[39m>\u001b[39m Any:\n\u001b[1;32m    270\u001b[0m \u001b[39m    \u001b[39m\u001b[39m\"\"\"\u001b[39;00m\n\u001b[1;32m    271\u001b[0m \u001b[39m    Calls the Gradio API and returns the result (this is a blocking call).\u001b[39;00m\n\u001b[1;32m    272\u001b[0m \n\u001b[0;32m   (...)\u001b[0m\n\u001b[1;32m    283\u001b[0m \u001b[39m        >> 9.0\u001b[39;00m\n\u001b[1;32m    284\u001b[0m \u001b[39m    \"\"\"\u001b[39;00m\n\u001b[0;32m--> 285\u001b[0m     \u001b[39mreturn\u001b[39;00m \u001b[39mself\u001b[39;49m\u001b[39m.\u001b[39;49msubmit(\u001b[39m*\u001b[39;49margs, api_name\u001b[39m=\u001b[39;49mapi_name, fn_index\u001b[39m=\u001b[39;49mfn_index)\u001b[39m.\u001b[39;49mresult()\n",
      "File \u001b[0;32m~/miniforge3/envs/llm/lib/python3.11/site-packages/gradio_client/client.py:988\u001b[0m, in \u001b[0;36mJob.result\u001b[0;34m(self, timeout)\u001b[0m\n\u001b[1;32m    986\u001b[0m             \u001b[39mif\u001b[39;00m \u001b[39mself\u001b[39m\u001b[39m.\u001b[39mcommunicator\u001b[39m.\u001b[39mjob\u001b[39m.\u001b[39moutputs:\n\u001b[1;32m    987\u001b[0m                 \u001b[39mreturn\u001b[39;00m \u001b[39mself\u001b[39m\u001b[39m.\u001b[39mcommunicator\u001b[39m.\u001b[39mjob\u001b[39m.\u001b[39moutputs[\u001b[39m0\u001b[39m]\n\u001b[0;32m--> 988\u001b[0m         time\u001b[39m.\u001b[39msleep(\u001b[39m0.01\u001b[39m)\n\u001b[1;32m    989\u001b[0m \u001b[39melse\u001b[39;00m:\n\u001b[1;32m    990\u001b[0m     \u001b[39mreturn\u001b[39;00m \u001b[39msuper\u001b[39m()\u001b[39m.\u001b[39mresult(timeout\u001b[39m=\u001b[39mtimeout)\n",
      "\u001b[0;31mKeyboardInterrupt\u001b[0m: "
     ]
    }
   ],
   "source": [
    "import time\n",
    "from datasets import load_dataset\n",
    "from tqdm.notebook import tqdm\n",
    "from gradio_client import Client\n",
    "\n",
    "client = Client(\"https://richardr1126-sql-skeleton-wizardcoder-demo.hf.space/\")\n",
    "\n",
    "dataset = load_dataset(\"richardr1126/spider-context-validation-ranked-schema\", split=\"validation\")\n",
    "last_line_written = 0\n",
    "\n",
    "for i in tqdm(range(last_line_written, len(dataset)), total=len(dataset)-last_line_written, desc=\"Generating responses\"):\n",
    "    example = dataset[i]\n",
    "    question = example[\"question\"]\n",
    "    db_info = example[\"db_info\"]\n",
    "\n",
    "    prompt = f\"{question} {db_info}\"\n",
    "    \n",
    "    while True:\n",
    "        try:\n",
    "            response_text = client.predict(\n",
    "                # prompt,  # 'input_text' Textbox\n",
    "                # \"\",      # 'db_info' Textbox\n",
    "                # 0.2,     # temperature\n",
    "                # 0.9,     # top-p\n",
    "                # 0,       # top-k\n",
    "                # 1.08,    # rep-penalty\n",
    "                # True,\t # bool in 'Format SQL + Remove Skeleton' Checkbox component\n",
    "\t\t\t\t# \"###\",\t# str in 'Extra Stop Sequence' Textbox component\n",
    "\t\t\t\t# False,    # bool in 'Log to Firebase' Checkbox component\n",
    "                # api_name=\"/txt2sql\"\n",
    "                prompt,\t# str in 'NL Input' Textbox component\n",
    "\t\t\t\t\"\",\t# str in 'Database Info' Textbox component\n",
    "\t\t\t\t0.2,\t# int | float (numeric value between 0.0 and 1.0) in 'Temperature' Slider component\n",
    "\t\t\t\t0.9,\t# int | float (numeric value between 0.0 and 1.0) in 'Top-p (nucleus sampling)' Slider component\n",
    "\t\t\t\t0,\t# int | float (numeric value between 0 and 200) in 'Top-k' Slider component\n",
    "\t\t\t\t1.08,\t# int | float (numeric value between 1.0 and 2.0) in 'Repetition Penalty' Slider component\n",
    "\t\t\t\tTrue,\t# bool in 'Format SQL + Remove Skeleton' Checkbox component\n",
    "\t\t\t\tFalse,\t# bool in 'Log to Firebase' Checkbox component\n",
    "\t\t\t\t3,\t# int | float (numeric value between 1 and 5) in 'Num Return Sequences' Slider component\n",
    "\t\t\t\t5,\t# int | float (numeric value between 1 and 5) in 'Num Beams' Slider component\n",
    "\t\t\t\tFalse,\t# bool in 'Do Sample' Checkbox component\n",
    "            )\n",
    "            \n",
    "            #response_text = response_text.strip().replace(\"\\n\", \" \").replace(\"\\t\", \" \")\n",
    "            if response_text and response_text[-1] == \".\":\n",
    "                response_text = response_text[:-1]\n",
    "            \n",
    "            with open('predictions/temp2_ranked_return_4.txt', 'a') as f:\n",
    "                f.write(response_text + \"\\n\\n\")\n",
    "            \n",
    "            break\n",
    "            \n",
    "        except Exception as e:\n",
    "            print(f'Error occurred: {str(e)}')\n",
    "            print('Waiting for 20 seconds before retrying...')\n",
    "            time.sleep(20)"
   ]
  }
 ],
 "metadata": {
  "kernelspec": {
   "display_name": "llama",
   "language": "python",
   "name": "python3"
  },
  "language_info": {
   "codemirror_mode": {
    "name": "ipython",
    "version": 3
   },
   "file_extension": ".py",
   "mimetype": "text/x-python",
   "name": "python",
   "nbconvert_exporter": "python",
   "pygments_lexer": "ipython3",
   "version": "3.11.4"
  },
  "orig_nbformat": 4
 },
 "nbformat": 4,
 "nbformat_minor": 2
}
