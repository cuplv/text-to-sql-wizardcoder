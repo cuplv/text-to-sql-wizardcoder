{
 "cells": [
  {
   "attachments": {},
   "cell_type": "markdown",
   "metadata": {},
   "source": [
    "### Eval on Spider"
   ]
  },
  {
   "cell_type": "code",
   "execution_count": 1,
   "metadata": {},
   "outputs": [
    {
     "name": "stderr",
     "output_type": "stream",
     "text": [
      "Found cached dataset json (/Users/richardroberson/.cache/huggingface/datasets/richardr1126___json/richardr1126--spider-context-validation-166f6f4d7e17c532/0.0.0/8bb11242116d547c741b2e8a1f18598ffdd40a1d4f2a2872c7a28b697434bc96)\n"
     ]
    },
    {
     "data": {
      "application/vnd.jupyter.widget-view+json": {
       "model_id": "1192e02b7508447fb50a0bbb248d5daf",
       "version_major": 2,
       "version_minor": 0
      },
      "text/plain": [
       "Generating responses:   0%|          | 0/1034 [00:00<?, ?it/s]"
      ]
     },
     "metadata": {},
     "output_type": "display_data"
    },
    {
     "name": "stdout",
     "output_type": "stream",
     "text": [
      "Error occurred: The server is overloaded or not ready yet.\n",
      "Waiting for 5 seconds before retrying...\n"
     ]
    }
   ],
   "source": [
    "import openai\n",
    "import time\n",
    "from datasets import load_dataset\n",
    "from tqdm.notebook import tqdm\n",
    "import os\n",
    "from dotenv import load_dotenv\n",
    "\n",
    "# Load environment variables from .env file\n",
    "load_dotenv()\n",
    "\n",
    "openai.api_key = os.getenv('OPENAI_API_KEY')\n",
    "\n",
    "dataset = load_dataset(\"richardr1126/spider-context-validation\", split=\"validation\")\n",
    "last_line_written = 0\n",
    "\n",
    "for i in tqdm(range(last_line_written, len(dataset)), total=len(dataset)-last_line_written, desc=\"Generating responses\"):\n",
    "    example = dataset[i]\n",
    "    prompt = example[\"prompt\"]\n",
    "    \n",
    "    while True:\n",
    "        try:\n",
    "            response = openai.ChatCompletion.create(\n",
    "                model=\"gpt-3.5-turbo\",\n",
    "                messages=[\n",
    "                    {\n",
    "                        \"role\": \"system\",\n",
    "                        \"content\": \"You are a sophisticated AI assistant capable of converting text into SQL queries. You can only output SQL, don't add any other text.\"\n",
    "                    },\n",
    "                    {\"role\": \"user\", \"content\": prompt}\n",
    "                ],\n",
    "            )\n",
    "            \n",
    "            response_text = response['choices'][0]['message']['content'].strip().replace(\"\\n\", \" \").replace(\"\\t\", \" \")\n",
    "            if response_text[-1] == \".\":\n",
    "                response_text = response_text[:-1]\n",
    "                \n",
    "            with open('predictions/chatgpt2.txt', 'a') as f:\n",
    "                f.write(response_text + \"\\n\")\n",
    "            \n",
    "            break\n",
    "            \n",
    "        except Exception as e:\n",
    "            print(f'Error occurred: {str(e)}')\n",
    "            print('Waiting for 10 seconds before retrying...')\n",
    "            time.sleep(10)\n",
    "\n"
   ]
  }
 ],
 "metadata": {
  "kernelspec": {
   "display_name": "llama",
   "language": "python",
   "name": "python3"
  },
  "language_info": {
   "codemirror_mode": {
    "name": "ipython",
    "version": 3
   },
   "file_extension": ".py",
   "mimetype": "text/x-python",
   "name": "python",
   "nbconvert_exporter": "python",
   "pygments_lexer": "ipython3",
   "version": "3.11.4"
  },
  "orig_nbformat": 4
 },
 "nbformat": 4,
 "nbformat_minor": 2
}
