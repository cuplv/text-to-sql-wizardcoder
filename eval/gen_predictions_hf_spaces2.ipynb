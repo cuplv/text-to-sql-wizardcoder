{
 "cells": [
  {
   "attachments": {},
   "cell_type": "markdown",
   "metadata": {},
   "source": [
    "### Eval on Spider"
   ]
  },
  {
   "cell_type": "code",
   "execution_count": 1,
   "metadata": {},
   "outputs": [
    {
     "name": "stdout",
     "output_type": "stream",
     "text": [
      "Loaded as API: https://richardr1126-sql-skeleton-wizardcoder-demo.hf.space/ ✔\n"
     ]
    },
    {
     "name": "stderr",
     "output_type": "stream",
     "text": [
      "Found cached dataset json (/Users/richardroberson/.cache/huggingface/datasets/richardr1126___json/richardr1126--spider-context-validation-166f6f4d7e17c532/0.0.0/8bb11242116d547c741b2e8a1f18598ffdd40a1d4f2a2872c7a28b697434bc96)\n"
     ]
    },
    {
     "data": {
      "application/vnd.jupyter.widget-view+json": {
       "model_id": "e53f80a75ce04519be15198d4d2525f6",
       "version_major": 2,
       "version_minor": 0
      },
      "text/plain": [
       "Generating responses:   0%|          | 0/631 [00:00<?, ?it/s]"
      ]
     },
     "metadata": {},
     "output_type": "display_data"
    }
   ],
   "source": [
    "import time\n",
    "from datasets import load_dataset\n",
    "from tqdm.notebook import tqdm\n",
    "from gradio_client import Client\n",
    "\n",
    "client = Client(\"https://richardr1126-sql-skeleton-wizardcoder-demo.hf.space/\")\n",
    "\n",
    "dataset = load_dataset(\"richardr1126/spider-context-validation\", split=\"validation\")\n",
    "last_line_written = 403\n",
    "\n",
    "\n",
    "for i in tqdm(range(last_line_written, len(dataset)), total=len(dataset)-last_line_written, desc=\"Generating responses\"):\n",
    "    example = dataset[i]\n",
    "    prompt = example[\"prompt\"]\n",
    "\n",
    "    response_text = client.predict(\n",
    "        prompt, # 'input_text' Textbox\n",
    "        \"\",     # 'db_info' Textbox\n",
    "        0.5,    # temperature\n",
    "        0.9,    # top-p\n",
    "        0,      # top-k\n",
    "        1.08,   # rep-penalty\n",
    "        api_name=\"/txt2sql\"\n",
    "    )\n",
    "    \n",
    "    response_text = response_text.strip().replace(\"\\n\", \" \")\n",
    "\n",
    "    # append the result to 'results.txt'\n",
    "    with open('predictions/temp5_skeleton.txt', 'a') as f:\n",
    "        f.write(response_text + \"\\n\")\n",
    "    \n",
    "    # wait for 50ms\n",
    "    time.sleep(0.05)\n"
   ]
  }
 ],
 "metadata": {
  "kernelspec": {
   "display_name": "llama",
   "language": "python",
   "name": "python3"
  },
  "language_info": {
   "codemirror_mode": {
    "name": "ipython",
    "version": 3
   },
   "file_extension": ".py",
   "mimetype": "text/x-python",
   "name": "python",
   "nbconvert_exporter": "python",
   "pygments_lexer": "ipython3",
   "version": "3.11.4"
  },
  "orig_nbformat": 4
 },
 "nbformat": 4,
 "nbformat_minor": 2
}
